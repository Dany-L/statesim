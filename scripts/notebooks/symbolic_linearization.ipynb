{
 "cells": [
  {
   "cell_type": "code",
   "execution_count": 1,
   "metadata": {},
   "outputs": [],
   "source": [
    "# import necessary functions\n",
    "%load_ext autoreload\n",
    "%autoreload 2"
   ]
  },
  {
   "cell_type": "code",
   "execution_count": 2,
   "metadata": {},
   "outputs": [
    {
     "name": "stdout",
     "output_type": "stream",
     "text": [
      "\n"
     ]
    }
   ],
   "source": [
    "import numpy as np\n",
    "from sympy import *\n",
    "from statesim.system.cartpole import CartPole\n",
    "\n",
    "init_session(quiet=True)"
   ]
  },
  {
   "cell_type": "code",
   "execution_count": 3,
   "metadata": {},
   "outputs": [
    {
     "name": "stdout",
     "output_type": "stream",
     "text": [
      "\\left[\\begin{matrix}x_{2}\\\\\\frac{length m_{p} x_{4}^{2} \\sin{\\left(x_{3} \\right)} - \\frac{m_{p} \\left(g \\sin{\\left(x_{3} \\right)} + \\frac{\\left(- length m_{p} x_{4}^{2} \\sin{\\left(x_{3} \\right)} + \\mu_{c} \\operatorname{sign}{\\left(x_{2} \\right)} - u\\right) \\cos{\\left(x_{3} \\right)}}{m_{c} + m_{p}} - \\frac{\\mu_{p} x_{4}}{length m_{p}}\\right) \\cos{\\left(x_{3} \\right)}}{- \\frac{m_{p} \\cos^{2}{\\left(x_{3} \\right)}}{m_{c} + m_{p}} + \\frac{4}{3}} - \\mu_{c} \\operatorname{sign}{\\left(x_{2} \\right)} + u}{m_{c} + m_{p}}\\\\x_{4}\\\\\\frac{g \\sin{\\left(x_{3} \\right)} + \\frac{\\left(- length m_{p} x_{4}^{2} \\sin{\\left(x_{3} \\right)} + \\mu_{c} \\operatorname{sign}{\\left(x_{2} \\right)} - u\\right) \\cos{\\left(x_{3} \\right)}}{m_{c} + m_{p}} - \\frac{\\mu_{p} x_{4}}{length m_{p}}}{length \\left(- \\frac{m_{p} \\cos^{2}{\\left(x_{3} \\right)}}{m_{c} + m_{p}} + \\frac{4}{3}\\right)}\\end{matrix}\\right]\n",
      "\\left[\\begin{matrix}0 & 1 & 0 & 0\\\\0 & \\begin{cases} 0 & \\text{for}\\: x_{2} = 0 \\\\\\text{NaN} & \\text{otherwise} \\end{cases} & - \\frac{g m_{p}}{\\frac{4 m_{c}}{3} + \\frac{m_{p}}{3}} & \\frac{\\mu_{p}}{length \\left(- \\frac{4 m_{c}}{3} - \\frac{m_{p}}{3}\\right)}\\\\0 & 0 & 0 & 1\\\\0 & \\begin{cases} 0 & \\text{for}\\: x_{2} = 0 \\\\\\text{NaN} & \\text{otherwise} \\end{cases} & \\frac{g \\left(- m_{c} - m_{p}\\right)}{length \\left(\\frac{4 m_{c}}{3} + \\frac{m_{p}}{3}\\right)} & \\frac{\\mu_{p} \\left(m_{c} + m_{p}\\right)}{length^{2} m_{p} \\left(- \\frac{4 m_{c}}{3} - \\frac{m_{p}}{3}\\right)}\\end{matrix}\\right]\n",
      "\\left[\\begin{matrix}0\\\\\\frac{4}{3 \\cdot \\left(\\frac{4 m_{c}}{3} + \\frac{m_{p}}{3}\\right)}\\\\0\\\\\\frac{1}{length \\left(\\frac{4 m_{c}}{3} + \\frac{m_{p}}{3}\\right)}\\end{matrix}\\right]\n",
      "[0 1 0 0; 0 ((x2 == 0).*(0) + (~(x2 == 0)).*(NaN)) -g.*m_p./(4*m_c/3 + m_p/3) mu_p./(length.*(-4*m_c/3 - m_p/3)); 0 0 0 1; 0 ((x2 == 0).*(0) + (~(x2 == 0)).*(NaN)) g.*(-m_c - m_p)./(length.*(4*m_c/3 + m_p/3)) mu_p.*(m_c + m_p)./(length.^2.*m_p.*(-4*m_c/3 - m_p/3))]\n",
      "[0; 4./(3*(4*m_c/3 + m_p/3)); 0; 1./(length.*(4*m_c/3 + m_p/3))]\n"
     ]
    }
   ],
   "source": [
    "sys = CartPole(mu_p=0.01)\n",
    "print(latex(nsimplify(sys._f_symbol)))\n",
    "A_sym, B_sym = sys.get_linearization()\n",
    "x1, x2, x3, x4, u = symbols('x1 x2 x3 x4 u')\n",
    "eval_dict = {\n",
    "    x1: 0,\n",
    "    x2: 0,\n",
    "    x3: np.pi,\n",
    "    x4: 0,\n",
    "    u: 0,\n",
    "}\n",
    "A = nsimplify(simplify(A_sym.evalf(subs=eval_dict)))\n",
    "B = nsimplify(simplify(B_sym.evalf(subs=eval_dict)))\n",
    "print(latex(A))\n",
    "print(latex(B))\n",
    "print(octave_code(A))\n",
    "print(octave_code(B))"
   ]
  },
  {
   "attachments": {},
   "cell_type": "markdown",
   "metadata": {},
   "source": [
    "# Cartpole system\n",
    "## Nonlinear differential equation\n",
    "$$\n",
    "\\dot{x} =\n",
    "\\left[\\begin{matrix}x_{2}\\\\\\frac{l m_{p} x_{4}^{2} \\sin{\\left(x_{3} \\right)} - \\frac{m_{p} \\left(g \\sin{\\left(x_{3} \\right)} + \\frac{\\left(- l m_{p} x_{4}^{2} \\sin{\\left(x_{3} \\right)} + \\mu_{c} \\operatorname{sign}{\\left(x_{2} \\right)} - u\\right) \\cos{\\left(x_{3} \\right)}}{m_{c} + m_{p}} - \\frac{\\mu_{p} x_{4}}{l m_{p}}\\right) \\cos{\\left(x_{3} \\right)}}{- \\frac{m_{p} \\cos^{2}{\\left(x_{3} \\right)}}{m_{c} + m_{p}} + \\frac{4}{3}} - \\mu_{c} \\operatorname{sign}{\\left(x_{2} \\right)} + u}{m_{c} + m_{p}}\\\\x_{4}\\\\\\frac{g \\sin{\\left(x_{3} \\right)} + \\frac{\\left(- l m_{p} x_{4}^{2} \\sin{\\left(x_{3} \\right)} + \\mu_{c} \\operatorname{sign}{\\left(x_{2} \\right)} - u\\right) \\cos{\\left(x_{3} \\right)}}{m_{c} + m_{p}} - \\frac{\\mu_{p} x_{4}}{l m_{p}}}{l \\left(- \\frac{m_{p} \\cos^{2}{\\left(x_{3} \\right)}}{m_{c} + m_{p}} + \\frac{4}{3}\\right)}\\end{matrix}\\right]\n",
    "$$\n",
    "## Linearized system\n",
    "The nonlinear system is linearized at $\\bar{x} = \\begin{bmatrix}0&0&0&\\pi&0\\end{bmatrix}$\n",
    "$$\n",
    "\\begin{split}\n",
    "\\dot{x} = A_{\\text{lin}}x + B_{\\text{lin}} u = \\\\\n",
    "\\left[\\begin{matrix}0 & 1 & 0 & 0\\\\0 & \\begin{cases} 0 & \\text{for}\\: x_{2} = 0 \\\\\\text{NaN} & \\text{otherwise} \\end{cases} & - \\frac{g m_{p}}{\\frac{4 m_{c}}{3} + \\frac{m_{p}}{3}} & \\frac{\\mu_{p}}{length \\left(- \\frac{4 m_{c}}{3} - \\frac{m_{p}}{3}\\right)}\\\\0 & 0 & 0 & 1\\\\0 & \\begin{cases} 0 & \\text{for}\\: x_{2} = 0 \\\\\\text{NaN} & \\text{otherwise} \\end{cases} & \\frac{g \\left(- m_{c} - m_{p}\\right)}{length \\left(\\frac{4 m_{c}}{3} + \\frac{m_{p}}{3}\\right)} & \\frac{\\mu_{p} \\left(m_{c} + m_{p}\\right)}{length^{2} m_{p} \\left(- \\frac{4 m_{c}}{3} - \\frac{m_{p}}{3}\\right)}\\end{matrix}\\right]\n",
    "x + \n",
    "\\left[\\begin{matrix}0\\\\\\frac{4}{3 \\cdot \\left(\\frac{4 m_{c}}{3} + \\frac{m_{p}}{3}\\right)}\\\\0\\\\\\frac{1}{length \\left(\\frac{4 m_{c}}{3} + \\frac{m_{p}}{3}\\right)}\\end{matrix}\\right] \n",
    "u\n",
    "\\end{split}\n",
    "$$"
   ]
  },
  {
   "cell_type": "code",
   "execution_count": null,
   "metadata": {},
   "outputs": [],
   "source": []
  }
 ],
 "metadata": {
  "kernelspec": {
   "display_name": "HybridStable",
   "language": "python",
   "name": "python3"
  },
  "language_info": {
   "codemirror_mode": {
    "name": "ipython",
    "version": 3
   },
   "file_extension": ".py",
   "mimetype": "text/x-python",
   "name": "python",
   "nbconvert_exporter": "python",
   "pygments_lexer": "ipython3",
   "version": "3.10.10"
  },
  "orig_nbformat": 4
 },
 "nbformat": 4,
 "nbformat_minor": 2
}
