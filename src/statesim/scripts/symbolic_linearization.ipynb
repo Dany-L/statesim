{
 "cells": [
  {
   "cell_type": "code",
   "execution_count": 2,
   "metadata": {},
   "outputs": [],
   "source": [
    "# import necessary functions\n",
    "%load_ext autoreload\n",
    "%autoreload 2"
   ]
  },
  {
   "cell_type": "code",
   "execution_count": 3,
   "metadata": {},
   "outputs": [
    {
     "name": "stdout",
     "output_type": "stream",
     "text": [
      "\n"
     ]
    }
   ],
   "source": [
    "import numpy as np\n",
    "from sympy import *\n",
    "from statesim.system.cartpole import CartPole\n",
    "init_session(quiet=True)\n"
   ]
  },
  {
   "cell_type": "code",
   "execution_count": 17,
   "metadata": {},
   "outputs": [
    {
     "name": "stdout",
     "output_type": "stream",
     "text": [
      "[x2, (l*m_p*x4**2*sin(x3) - m_p*(g*sin(x3) + (-l*m_p*x4**2*sin(x3) + mu_c*sign(x2) - u)*cos(x3)/(m_c + m_p) - mu_p*x4/(l*m_p))*cos(x3)/(-m_p*cos(x3)**2/(m_c + m_p) + 1.33333333333333) - mu_c*sign(x2) + u)/(m_c + m_p), x4, (g*sin(x3) + (-l*m_p*x4**2*sin(x3) + mu_c*sign(x2) - u)*cos(x3)/(m_c + m_p) - mu_p*x4/(l*m_p))/(l*(-m_p*cos(x3)**2/(m_c + m_p) + 1.33333333333333))]\n",
      "\\left[\\begin{matrix}x_{2}\\\\\\begin{cases} \\frac{- \\frac{g l m_{p} \\sin{\\left(2 x_{3} \\right)}}{2} + \\frac{4 l^{2} m_{p} x_{4}^{2} \\sin{\\left(x_{3} \\right)}}{3} + \\frac{4 l u}{3} + \\mu_{p} x_{4} \\cos{\\left(x_{3} \\right)}}{l \\left(\\frac{4 m_{c}}{3} - m_{p} \\cos^{2}{\\left(x_{3} \\right)} + \\frac{4 m_{p}}{3}\\right)} & \\text{for}\\: x_{2} = 0 \\\\\\frac{- \\frac{4 l \\mu_{c} x_{2}}{3} + \\left(- \\frac{g l m_{p} \\sin{\\left(2 x_{3} \\right)}}{2} + \\frac{4 l^{2} m_{p} x_{4}^{2} \\sin{\\left(x_{3} \\right)}}{3} + \\frac{4 l u}{3} + \\mu_{p} x_{4} \\cos{\\left(x_{3} \\right)}\\right) \\left|{x_{2}}\\right|}{l \\left(\\frac{4 m_{c}}{3} - m_{p} \\cos^{2}{\\left(x_{3} \\right)} + \\frac{4 m_{p}}{3}\\right) \\left|{x_{2}}\\right|} & \\text{otherwise} \\end{cases}\\\\x_{4}\\\\\\begin{cases} \\frac{g l m_{p} \\left(m_{c} + m_{p}\\right) \\sin{\\left(x_{3} \\right)} - l m_{p} \\left(l m_{p} x_{4}^{2} \\sin{\\left(x_{3} \\right)} + u\\right) \\cos{\\left(x_{3} \\right)} - \\mu_{p} x_{4} \\left(m_{c} + m_{p}\\right)}{l^{2} m_{p} \\left(\\frac{4 m_{c}}{3} - m_{p} \\cos^{2}{\\left(x_{3} \\right)} + \\frac{4 m_{p}}{3}\\right)} & \\text{for}\\: x_{2} = 0 \\\\\\frac{- l m_{p} \\left(- \\mu_{c} x_{2} + \\left(l m_{p} x_{4}^{2} \\sin{\\left(x_{3} \\right)} + u\\right) \\left|{x_{2}}\\right|\\right) \\cos{\\left(x_{3} \\right)} - \\left(m_{c} + m_{p}\\right) \\left(- g l m_{p} \\sin{\\left(x_{3} \\right)} + \\mu_{p} x_{4}\\right) \\left|{x_{2}}\\right|}{l^{2} m_{p} \\left(\\frac{4 m_{c}}{3} - m_{p} \\cos^{2}{\\left(x_{3} \\right)} + \\frac{4 m_{p}}{3}\\right) \\left|{x_{2}}\\right|} & \\text{otherwise} \\end{cases}\\end{matrix}\\right]\n",
      "Matrix([[x2], [(l*m_p*x4**2*sin(x3) - m_p*(g*sin(x3) + (-l*m_p*x4**2*sin(x3) + mu_c*sign(x2) - u)*cos(x3)/(m_c + m_p) - mu_p*x4/(l*m_p))*cos(x3)/(-m_p*cos(x3)**2/(m_c + m_p) + 1.33333333333333) - mu_c*sign(x2) + u)/(m_c + m_p)], [x4], [(g*sin(x3) + (-l*m_p*x4**2*sin(x3) + mu_c*sign(x2) - u)*cos(x3)/(m_c + m_p) - mu_p*x4/(l*m_p))/(l*(-m_p*cos(x3)**2/(m_c + m_p) + 1.33333333333333))]])\n",
      "\\left[\\begin{matrix}0 & 1 & 0 & 0\\\\0 & \\begin{cases} 0 & \\text{for}\\: x_{2} = 0 \\\\\\text{NaN} & \\text{otherwise} \\end{cases} & - \\frac{g m_{p}}{\\frac{4 m_{c}}{3} + \\frac{m_{p}}{3}} & \\frac{\\mu_{p}}{l \\left(- \\frac{4 m_{c}}{3} - \\frac{m_{p}}{3}\\right)}\\\\0 & 0 & 0 & 1\\\\0 & \\begin{cases} 0 & \\text{for}\\: x_{2} = 0 \\\\\\text{NaN} & \\text{otherwise} \\end{cases} & \\frac{g \\left(- m_{c} - m_{p}\\right)}{l \\left(\\frac{4 m_{c}}{3} + \\frac{m_{p}}{3}\\right)} & \\frac{\\mu_{p} \\left(m_{c} + m_{p}\\right)}{l^{2} m_{p} \\left(- \\frac{4 m_{c}}{3} - \\frac{m_{p}}{3}\\right)}\\end{matrix}\\right]\n",
      "\\left[\\begin{matrix}0\\\\\\frac{4}{3 \\cdot \\left(\\frac{4 m_{c}}{3} + \\frac{m_{p}}{3}\\right)}\\\\0\\\\\\frac{1}{l \\left(\\frac{4 m_{c}}{3} + \\frac{m_{p}}{3}\\right)}\\end{matrix}\\right]\n"
     ]
    }
   ],
   "source": [
    "sys = CartPole()\n",
    "print(latex(nsimplify(simplify(sys._f_symbol))))\n",
    "A_sym, B_sym = sys.get_linearization()\n",
    "x1, x2, x3, x4, u = symbols('x1 x2 x3 x4 u')\n",
    "eval_dict = {\n",
    "    x1: 0,\n",
    "    x2: 0,\n",
    "    x3: np.pi,\n",
    "    x4: 0,\n",
    "    u:0,\n",
    "}\n",
    "A = nsimplify(simplify(A_sym.evalf(subs=eval_dict)))\n",
    "B = nsimplify(simplify(B_sym.evalf(subs=eval_dict)))\n",
    "print(latex(A))\n",
    "print(latex(B))\n"
   ]
  },
  {
   "attachments": {},
   "cell_type": "markdown",
   "metadata": {},
   "source": [
    "# Cartpole system\n",
    "## Nonlinear differential equation\n",
    "$$\n",
    "\\dot{x} =\n",
    "\\left[\\begin{matrix}x_{2}\\\\\\begin{cases} \\frac{- \\frac{g l m_{p} \\sin{\\left(2 x_{3} \\right)}}{2} + \\frac{4 l^{2} m_{p} x_{4}^{2} \\sin{\\left(x_{3} \\right)}}{3} + \\frac{4 l u}{3} + \\mu_{p} x_{4} \\cos{\\left(x_{3} \\right)}}{l \\left(\\frac{4 m_{c}}{3} - m_{p} \\cos^{2}{\\left(x_{3} \\right)} + \\frac{4 m_{p}}{3}\\right)} & \\text{for}\\: x_{2} = 0 \\\\\\frac{- \\frac{4 l \\mu_{c} x_{2}}{3} + \\left(- \\frac{g l m_{p} \\sin{\\left(2 x_{3} \\right)}}{2} + \\frac{4 l^{2} m_{p} x_{4}^{2} \\sin{\\left(x_{3} \\right)}}{3} + \\frac{4 l u}{3} + \\mu_{p} x_{4} \\cos{\\left(x_{3} \\right)}\\right) \\left|{x_{2}}\\right|}{l \\left(\\frac{4 m_{c}}{3} - m_{p} \\cos^{2}{\\left(x_{3} \\right)} + \\frac{4 m_{p}}{3}\\right) \\left|{x_{2}}\\right|} & \\text{otherwise} \\end{cases}\\\\x_{4}\\\\\\begin{cases} \\frac{g l m_{p} \\left(m_{c} + m_{p}\\right) \\sin{\\left(x_{3} \\right)} - l m_{p} \\left(l m_{p} x_{4}^{2} \\sin{\\left(x_{3} \\right)} + u\\right) \\cos{\\left(x_{3} \\right)} - \\mu_{p} x_{4} \\left(m_{c} + m_{p}\\right)}{l^{2} m_{p} \\left(\\frac{4 m_{c}}{3} - m_{p} \\cos^{2}{\\left(x_{3} \\right)} + \\frac{4 m_{p}}{3}\\right)} & \\text{for}\\: x_{2} = 0 \\\\\\frac{- l m_{p} \\left(- \\mu_{c} x_{2} + \\left(l m_{p} x_{4}^{2} \\sin{\\left(x_{3} \\right)} + u\\right) \\left|{x_{2}}\\right|\\right) \\cos{\\left(x_{3} \\right)} - \\left(m_{c} + m_{p}\\right) \\left(- g l m_{p} \\sin{\\left(x_{3} \\right)} + \\mu_{p} x_{4}\\right) \\left|{x_{2}}\\right|}{l^{2} m_{p} \\left(\\frac{4 m_{c}}{3} - m_{p} \\cos^{2}{\\left(x_{3} \\right)} + \\frac{4 m_{p}}{3}\\right) \\left|{x_{2}}\\right|} & \\text{otherwise} \\end{cases}\\end{matrix}\\right]\n",
    "\n",
    "$$\n",
    "## Linearized system\n",
    "The nonlinear system is linearized at $\\bar{x} = \\begin{bmatrix}0&0&0&\\pi&0\\end{bmatrix}$\n",
    "$$\n",
    "\\begin{split}\n",
    "\\dot{x} = A_{\\text{lin}}x + B_{\\text{lin}} u = \\\\ \\left[\\begin{matrix}0 & 1 & 0 & 0\\\\0 & \\begin{cases} 0 & \\text{for}\\: x_{2} = 0 \\\\\\text{NaN} & \\text{otherwise} \\end{cases} & - \\frac{g m_{p}}{\\frac{4 m_{c}}{3} + \\frac{m_{p}}{3}} & \\frac{\\mu_{p}}{l \\left(- \\frac{4 m_{c}}{3} - \\frac{m_{p}}{3}\\right)}\\\\0 & 0 & 0 & 1\\\\0 & \\begin{cases} 0 & \\text{for}\\: x_{2} = 0 \\\\\\text{NaN} & \\text{otherwise} \\end{cases} & \\frac{g \\left(- m_{c} - m_{p}\\right)}{l \\left(\\frac{4 m_{c}}{3} + \\frac{m_{p}}{3}\\right)} & \\frac{\\mu_{p} \\left(m_{c} + m_{p}\\right)}{l^{2} m_{p} \\left(- \\frac{4 m_{c}}{3} - \\frac{m_{p}}{3}\\right)}\\end{matrix}\\right] x + \\left[\\begin{matrix}0\\\\\\frac{4}{3 \\cdot \\left(\\frac{4 m_{c}}{3} + \\frac{m_{p}}{3}\\right)}\\\\0\\\\\\frac{1}{l \\left(\\frac{4 m_{c}}{3} + \\frac{m_{p}}{3}\\right)}\\end{matrix}\\right] u\n",
    "\\end{split}\n",
    "$$"
   ]
  },
  {
   "cell_type": "code",
   "execution_count": null,
   "metadata": {},
   "outputs": [],
   "source": []
  }
 ],
 "metadata": {
  "kernelspec": {
   "display_name": "HybridStable",
   "language": "python",
   "name": "python3"
  },
  "language_info": {
   "codemirror_mode": {
    "name": "ipython",
    "version": 3
   },
   "file_extension": ".py",
   "mimetype": "text/x-python",
   "name": "python",
   "nbconvert_exporter": "python",
   "pygments_lexer": "ipython3",
   "version": "3.10.10"
  },
  "orig_nbformat": 4
 },
 "nbformat": 4,
 "nbformat_minor": 2
}
